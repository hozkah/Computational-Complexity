{
 "cells": [
  {
   "cell_type": "markdown",
   "metadata": {},
   "source": [
    " Date Detection\n",
    " \n",
    " Write a regular expression that can detect dates in the DD/MM/YYYY format. Assume that the days range\n",
    " from 01 to 31, the months range from 01 to 12, and the years range from 1000 to 2999. Note that if the day or month is a single digit, it’ll have a leading zero. The regular expression doesn’t have to detect correct days for each month or for leap years; it will accept nonexistent dates like 31/02/2020 or 31/04/2021. Then store these strings into variables named month, day, and year, and write additional code that can detect if it is a valid date. April, June, September, and November have 30 days, February has 28 days, and the rest of the months have 31 days. February has 29 days in leap years. Leap years are every year evenly divisible by 4, except for years evenly divisible by 100, unless the year is also evenly divisible by 400. Note how this calculation makes it impossible to make a reasonably sized regular expression that can detect a valid date."
   ]
  },
  {
   "cell_type": "code",
   "execution_count": null,
   "metadata": {},
   "outputs": [],
   "source": [
    "import re\n",
    "\n",
    "def is_leap_year(year):\n",
    "    return (year % 4 == 0 and year % 100 != 0) or (year % 400 == 0)\n",
    "\n",
    "def is_valid_date(day, month, year):\n",
    "    month_days = {\"01\": 31, \"02\": 28, \"03\": 31, \"04\": 30, \"05\": 31, \"06\": 30,\n",
    "                  \"07\": 31, \"08\": 31, \"09\": 30, \"10\": 31, \"11\": 30, \"12\": 31}\n",
    "    \n",
    "    if month == \"02\" and is_leap_year(year):\n",
    "        month_days[\"02\"] = 29  # Adjust February for leap years\n",
    "    \n",
    "    return 1 <= day <= month_days.get(month, 0)\n",
    "\n",
    "# Regular expression for date in DD/MM/YYYY format\n",
    "date_pattern = re.compile(r\"^(?P<day>0[1-9]|[12][0-9]|3[01])/(?P<month>0[1-9]|1[0-2])/(?P<year>[12][0-9]{3})$\")\n",
    "\n",
    "def validate_date(date_string):\n",
    "    match = date_pattern.match(date_string)\n",
    "    if match:\n",
    "        day, month, year = int(match.group(\"day\")), match.group(\"month\"), int(match.group(\"year\"))\n",
    "        \n",
    "        if is_valid_date(day, month, year):\n",
    "            return f\"Valid date: {date_string}\"\n",
    "        else:\n",
    "            return f\"Invalid date: {date_string} (Month {month} does not have {day} days)\"\n",
    "    else:\n",
    "        return \"Invalid format\"\n"
   ]
  },
  {
   "cell_type": "code",
   "execution_count": 9,
   "metadata": {},
   "outputs": [
    {
     "name": "stdout",
     "output_type": "stream",
     "text": [
      "Valid date: 29/02/2028\n",
      "Invalid date: 31/04/2021 (Month 04 does not have 31 days)\n",
      "Valid date: 30/06/2023\n",
      "Invalid date: 31/11/2022 (Month 11 does not have 31 days)\n",
      "Valid date: 31/12/2999\n"
     ]
    }
   ],
   "source": [
    "# Example usage\n",
    "dates = [\"29/02/2028\", \"31/04/2021\", \"30/06/2023\", \"31/11/2022\", \"31/12/2999\"]\n",
    "for date in dates:\n",
    "    print(validate_date(date))"
   ]
  },
  {
   "cell_type": "markdown",
   "metadata": {},
   "source": [
    " Strong Password Detection\n",
    "\n",
    " Write a function that uses regular expressions to make sure the password string it is passed is strong.A strong password is defined as one that is at least eight characters long, contains both uppercase and lowercase characters, and has at least one digit. You may need to test the string against multiple regex patterns to validate its strength."
   ]
  },
  {
   "cell_type": "code",
   "execution_count": 3,
   "metadata": {},
   "outputs": [],
   "source": [
    "import re\n",
    "\n",
    "def is_strong_password(password):\n",
    "    # Minimum 8 characters\n",
    "    if len(password) < 8:\n",
    "        return \"Password must be at least 8 characters long\"\n",
    "    \n",
    "    # At least one lowercase letter\n",
    "    if not re.search(r\"[a-z]\", password):\n",
    "        return \"Password must contain at least one lowercase letter\"\n",
    "    \n",
    "    # At least one uppercase letter\n",
    "    if not re.search(r\"[A-Z]\", password):\n",
    "        return \"Password must contain at least one uppercase letter\"\n",
    "    \n",
    "    # At least one digit\n",
    "    if not re.search(r\"\\d\", password):\n",
    "        return \"Password must contain at least one digit\"\n",
    "    \n",
    "    return \"Strong password\"\n"
   ]
  },
  {
   "cell_type": "code",
   "execution_count": 5,
   "metadata": {},
   "outputs": [
    {
     "name": "stdout",
     "output_type": "stream",
     "text": [
      "oscar: Password must be at least 8 characters long\n",
      "Zahara1: Password must be at least 8 characters long\n",
      "AnnaAkuM123: Strong password\n",
      "Precious!: Password must contain at least one digit\n",
      "12345678MUKAMA: Password must contain at least one lowercase letter\n"
     ]
    }
   ],
   "source": [
    "\n",
    "# Example usage\n",
    "passwords = [\"oscar\", \"Zahara1\", \"AnnaAkuM123\", \"Precious!\", \"12345678MUKAMA\"]\n",
    "for pwd in passwords:\n",
    "    print(f\"{pwd}: {is_strong_password(pwd)}\")"
   ]
  },
  {
   "cell_type": "markdown",
   "metadata": {},
   "source": [
    "Regex Version of the strip() Method\n",
    "\n",
    "Write a function that takes a string and does the same thing as the  \n",
    "strip()  string method. If no other  arguments are passed other than the string to strip, then whitespace characters will be removed from the  beginning and end of the string. Otherwise, the characters specified in the second argument to the function will be removed from the string."
   ]
  },
  {
   "cell_type": "code",
   "execution_count": 6,
   "metadata": {},
   "outputs": [],
   "source": [
    "import re\n",
    "\n",
    "def regex_strip(text, chars=None):\n",
    "    if chars is None:\n",
    "        # Remove leading and trailing whitespace\n",
    "        return re.sub(r'^\\s+|\\s+$', '', text)\n",
    "    else:\n",
    "        # Create a character class from the given characters and remove them from both ends\n",
    "        pattern = f'^[{re.escape(chars)}]+|[{re.escape(chars)}]+$'\n",
    "        return re.sub(pattern, '', text)\n"
   ]
  },
  {
   "cell_type": "code",
   "execution_count": 7,
   "metadata": {},
   "outputs": [
    {
     "name": "stdout",
     "output_type": "stream",
     "text": [
      "My Name is Oscar\n",
      "Absolom, Could be a Pastor!\n",
      "I Love all My ClassMates!\n"
     ]
    }
   ],
   "source": [
    "\n",
    "# Example usage\n",
    "print(regex_strip(\"   My Name is Oscar   \"))  # Expected: \"My Name is Oscar\"\n",
    "print(regex_strip(\"***Absolom, Could be a Pastor!***\", \"*\"))  # Expected: \"Absolom, Could be a Pastor!\"\n",
    "print(regex_strip(\"xyzI Love all My ClassMates!xyz\", \"xyz\"))  # Expected: \"I Love all My ClassMates!\""
   ]
  }
 ],
 "metadata": {
  "kernelspec": {
   "display_name": "Python 3",
   "language": "python",
   "name": "python3"
  },
  "language_info": {
   "codemirror_mode": {
    "name": "ipython",
    "version": 3
   },
   "file_extension": ".py",
   "mimetype": "text/x-python",
   "name": "python",
   "nbconvert_exporter": "python",
   "pygments_lexer": "ipython3",
   "version": "3.12.4"
  }
 },
 "nbformat": 4,
 "nbformat_minor": 2
}
